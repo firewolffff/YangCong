{
 "cells": [
  {
   "cell_type": "code",
   "execution_count": null,
   "metadata": {},
   "outputs": [],
   "source": [
    "import pandas as pd"
   ]
  },
  {
   "cell_type": "code",
   "execution_count": null,
   "metadata": {},
   "outputs": [],
   "source": [
    "# 读取 questionnaire.csv, 存到 df 中，并将第一列（uid）设置为索引\n",
    "question = pd.read_csv(\"questionnaire.csv\",index_col='uid');\n",
    "question.head(5);"
   ]
  },
  {
   "cell_type": "code",
   "execution_count": null,
   "metadata": {},
   "outputs": [],
   "source": [
    "import numpy as np\n",
    "#将所有uid随机分配到一个名为 user_mat 的10×10的numpy矩阵中\n",
    "uids = question.index.values;\n",
    "np.random.shuffle(uids)\n",
    "user_mat = uids.reshape((10,10));"
   ]
  },
  {
   "cell_type": "code",
   "execution_count": null,
   "metadata": {},
   "outputs": [],
   "source": [
    "#随机\"shuffle\" user_mat 十次，并将返回的“染色体”保存到 initial_population\n",
    "initial_population = []\n",
    "\n",
    "for x in range(10):\n",
    "    user_mat = np.random.permutation(range(1, 101)).reshape((10,10))\n",
    "    initial_population.append(user_mat)"
   ]
  },
  {
   "cell_type": "code",
   "execution_count": null,
   "metadata": {},
   "outputs": [],
   "source": [
    "initial_population"
   ]
  },
  {
   "cell_type": "code",
   "execution_count": null,
   "metadata": {},
   "outputs": [],
   "source": [
    "#写一个函数，输入是用户A（person）和一组用户B的数据（*others），返回A同B中每个用户喜好的平均曼哈顿距离\n",
    "from scipy.spatial.distance import pdist\n",
    "def calculate_distace(people):\n",
    "    \n",
    "def calculate_interest_distance(person, *others):\n",
    "    people = [df.ix[person, 0:3]]\n",
    "    for other in others:\n",
    "        if other:\n",
    "            people.append(df.ix[other, 0:3])\n",
    "\n",
    "    return np.average(pdist(people, lambda x,o:np.sum(np.abs(people[0]-o)))) if len(people) > 1 else 0"
   ]
  },
  {
   "cell_type": "code",
   "execution_count": null,
   "metadata": {},
   "outputs": [],
   "source": [
    "def get_element_safe(sequence, position):\n",
    "    try:\n",
    "        return sequence.item(position)\n",
    "    except IndexError:\n",
    "        return None"
   ]
  },
  {
   "cell_type": "code",
   "execution_count": null,
   "metadata": {},
   "outputs": [],
   "source": [
    "#补全calculate_chromosome_fitness函数，该函数接收一个染色体，并为该染色体上的每个基因计算曼哈顿距离，\n",
    "#最后以这些距离的平均值作为这条染色体的“适者程度”\n",
    "def calculate_chromosome_fitness(chromosome):\n",
    "    fitnesses = []\n",
    "    for index, gene in np.ndenumerate(chromosome):\n",
    "        next_to = calculate_interest_distance(gene,\n",
    "                                             get_element_safe(chromosome, (index[0], index[1] - 1)),\n",
    "                                             get_element_safe(chromosome, (index[0], index[1] + 1)))\n",
    "        in_front = calculate_interest_distance(gene,\n",
    "                                              get_element_safe(chromosome,(index[0]-1,index[1])))\n",
    "        behind = calculate_interest_distance(gene,\n",
    "                                            get_element_safe(choromosome,(index[0]+1,index[1])))\n",
    "        fitnesses.append(sum([next_to, in_front, behind]) / 3)\n",
    "    return np.average(fitnesses)"
   ]
  },
  {
   "cell_type": "code",
   "execution_count": null,
   "metadata": {},
   "outputs": [],
   "source": [
    "generations = []\n",
    "\n",
    "for chromosome in initial_population:\n",
    "    generations.append({\n",
    "        \"generation\": 0,\n",
    "        \"fitness\": calculate_chromosome_fitness(chromosome),\n",
    "        \"chromosome\": chromosome,\n",
    "        \"active\": True\n",
    "    })"
   ]
  },
  {
   "cell_type": "code",
   "execution_count": null,
   "metadata": {},
   "outputs": [],
   "source": [
    "#以 fitness 为 key，为generations排序\n",
    "generations = sorted(generations,key=lambda x:x['fitness'])\n",
    "generations"
   ]
  },
  {
   "cell_type": "code",
   "execution_count": null,
   "metadata": {},
   "outputs": [],
   "source": [
    "#补全”遗传规则“\n",
    "import random\n",
    "\n",
    "def recombine(mother, father):\n",
    "    child = np.ones((10,10)) * -1\n",
    "    # 遍历每个用户\n",
    "    for index, uid in enumerate(df.index):\n",
    "        if uid <= 50:\n",
    "            # 如果uid <=50，则position为mother中该uid的位置\n",
    "            position = np.where(mother == uid)\n",
    "        else:\n",
    "            # 如果uid > 50，则position为father中该uid的位置\n",
    "            position = np.where(father == uid)\n",
    "        \n",
    "        child[position] = 0;\n",
    "        if child[position] != -1:\n",
    "            # 处理冲突\n",
    "            filtered = np.where(np.equal(child, -1))\n",
    "            position = random.choice(list(zip(filtered[0], filtered[1])))\n",
    "\n",
    "        child[position] = uid\n",
    "\n",
    "    return child"
   ]
  },
  {
   "cell_type": "code",
   "execution_count": null,
   "metadata": {},
   "outputs": [],
   "source": [
    "import random\n",
    "\n",
    "def mutate_chromosome(chromosome):\n",
    "    first = (random.randrange(0, 10, 1), random.randrange(0, 10, 1))\n",
    "    second = (random.randrange(0, 10, 1), random.randrange(0, 10, 1))\n",
    "\n",
    "    chromosome[first[0], first[1]], chromosome[second[0], second[1]] = chromosome[second[0], second[1]], chromosome[first[0], first[1]]\n",
    "    return chromosome"
   ]
  },
  {
   "cell_type": "code",
   "execution_count": null,
   "metadata": {},
   "outputs": [],
   "source": [
    "import matplotlib.pyplot as plt\n",
    "%matplotlib inline\n",
    "\n",
    "def draw_population(population, generation):\n",
    "    get_ids = np.vectorize(get_id)\n",
    "    figure, axes = plt.subplots(1, 10, figsize=(20, 3))\n",
    "\n",
    "    for index, chromosome in enumerate(population):\n",
    "        ids = chromosome\n",
    "        axes[index].imshow(ids, interpolation=\"nearest\", cmap=plt.cm.plasma)\n",
    "        subplot_title = \"Chromosome \" + str(index)\n",
    "        axes[index].set_title(subplot_title)\n",
    "\n",
    "    plot_title = \"Generation \" + str(generation)\n",
    "    figure.suptitle(plot_title)\n",
    "    plt.show()"
   ]
  },
  {
   "cell_type": "code",
   "execution_count": null,
   "metadata": {},
   "outputs": [],
   "source": [
    "draw_population(initial_population, 0)"
   ]
  },
  {
   "cell_type": "code",
   "execution_count": null,
   "metadata": {},
   "outputs": [],
   "source": [
    "import copy\n",
    "#又到了交配的季节\n",
    "\"\"\"\n",
    "代数达到上限\n",
    "后代的适应性超过阈值\n",
    "后代适应性退化\n",
    "\"\"\"\n",
    "#代数上限\n",
    "max_itea = N;\n",
    "most_fit = []\n",
    "\n",
    "# 当前的适应度\n",
    "max_fitness = None\n",
    "\n",
    "# 适应度最高的染色体\n",
    "fittest_chromosome = None\n",
    "\n",
    "fittest_chromosome = generations[0]['chromosome'];\n",
    "max_fitness = generations[0]['fitness'];\n",
    "most_fit.append(max_fitness);\n",
    "\n",
    "i = 1;\n",
    "while(True):\n",
    "    if(generations[-1]['generation'] < 50):\n",
    "        break;\n",
    "    else:\n",
    "        next_generations = [];\n",
    "        np.random.shuffle(generations);\n",
    "        for i in range(1,len(generations)):\n",
    "            child = recombine(generations[i-1]['chromosome'],generations[i]['chromosome']);\n",
    "            child =  mutate_chromosome(child);\n",
    "            next_generations.append({\n",
    "                \"generation\": i+1,\n",
    "                \"fitness\": calculate_chromosome_fitness(child),\n",
    "                \"chromosome\": child,\n",
    "                \"active\": True\n",
    "            })\n",
    "        i  = i + 1;\n",
    "        next_generations = sorted(next_generations,key=lambda x:x['fitness']);\n",
    "        fittest_chromosome = next_generations[0]['chromosome'] if next_generations[0]['fitness'] < max_fitness else fittest_chromosome;\n",
    "        max_fitness = min(max_fitness,next_generations[0]['fitness']);\n",
    "        most_fit.append(next_generations[0]['fitness']);\n",
    "        \n",
    "        if(most_fit[-1] < most_fit[-2] or max_fitness < 5):\n",
    "            break;"
   ]
  },
  {
   "cell_type": "code",
   "execution_count": null,
   "metadata": {},
   "outputs": [],
   "source": [
    "### 从generations取出某一代的所有染色体，并排序\n",
    "def get_chromosomes_in_generation(generations, generation_num):\n",
    "    # Get only the chromosomes in this generation\n",
    "    generation = list(filter(lambda k: k['generation'] == generation_num, \n",
    "                             generations))\n",
    "    return sorted(generation, key=lambda k: k['fitness'])\n",
    "\n",
    "\n",
    "### 更新 most_fit / max_fitness / fittest_chromosome \n",
    "def sort_chromosomes(generation, most_fit):\n",
    "    max_fitness = generation[0]['fitness']\n",
    "    most_fit.append(max_fitness)\n",
    "    fittest_chromosome = generation[0]['chromosome']\n",
    "    return most_fit, fittest_chromosome"
   ]
  },
  {
   "cell_type": "code",
   "execution_count": null,
   "metadata": {},
   "outputs": [],
   "source": [
    "# 请将以下Comment 添加到代码的合适位置\n",
    "\n",
    "def copy_chromosomes(generation, generations):\n",
    "    new_generation = copy.deepcopy(generation)\n",
    "    # C. 将适应度最差的两个染色体杀掉\n",
    "    new_generation[-1]['active'] = False\n",
    "    new_generation[-2]['active'] = False\n",
    "    \n",
    "    # D. 找到仍存活的染色体，并更新代数\n",
    "    active = list(filter(lambda k: k['active'] == True, new_generation))\n",
    "    for chromosome in active:\n",
    "        chromosome['generation'] += 1\n",
    "    \n",
    "    \n",
    "    generations.extend(active)\n",
    "    return generations\n",
    "\n",
    "\n",
    "def mate_chromosomes(generation, generations, generation_num):\n",
    "    # A. 将适应度最高的两条染色体交配\n",
    "    child = recombine(generation[0]['chromosome'], generation[1]['chromosome'])\n",
    "    child = mutate_chromosome(child)\n",
    "    generations.append({\n",
    "      \"active\": True,\n",
    "      \"chromosome\": child,\n",
    "      \"generation\": generation_num + 1,\n",
    "      \"fitness\": calculate_chromosome_fitness(child)\n",
    "    })\n",
    "    \n",
    "    # E. 将适应度第三和第四高的两条染色体交配\n",
    "    other = recombine(generation[2]['chromosome'], generation[3]['chromosome'])\n",
    "    other = mutate_chromosome(chromosome)\n",
    "    # B. 将新一代染色体加入到generations中并返回\n",
    "    generations.append({\n",
    "      \"active\": True,\n",
    "      \"chromosome\": other,\n",
    "      \"generation\": generation_num + 1,\n",
    "      \"fitness\": calculate_chromosome_fitness(other)\n",
    "    })\n",
    "    return generations"
   ]
  },
  {
   "cell_type": "code",
   "execution_count": null,
   "metadata": {},
   "outputs": [],
   "source": [
    "def run_ga(input_generations):\n",
    "    fittest = []\n",
    "    max_fitness = None\n",
    "    fittest_chromo = None\n",
    "    for generation_num in range(50):\n",
    "        if max_fitness and max_fitness < 5:\n",
    "            break\n",
    "\n",
    "        generation = get_chromosomes_in_generation(input_generations, generation_num)\n",
    "        fittest, fittest_chromo = sort_chromosomes(generation, most_fit)\n",
    "\n",
    "        input_generations = copy_chromosomes(generation, input_generations)\n",
    "        input_generations = mate_chromosomes(generation, input_generations, generation_num)\n",
    "\n",
    "        draw_population(map(lambda d: d['chromosome'], \n",
    "                        get_chromosomes_in_generation(input_generations, generation_num)), generation_num)\n",
    "\n",
    "    return fittest, fittest_chromo"
   ]
  },
  {
   "cell_type": "code",
   "execution_count": null,
   "metadata": {},
   "outputs": [],
   "source": [
    "most_fit, fittest_chromosome = run_ga(generations)"
   ]
  },
  {
   "cell_type": "code",
   "execution_count": null,
   "metadata": {},
   "outputs": [],
   "source": [
    "plt.plot(most_fit)\n",
    "plt.title(\"Most Fit Trend\")\n",
    "plt.xlabel(\"Generation\")\n",
    "plt.ylabel(\"Fitness\")\n",
    "plt.show()"
   ]
  },
  {
   "cell_type": "code",
   "execution_count": null,
   "metadata": {},
   "outputs": [],
   "source": [
    "fittest_chromosome"
   ]
  },
  {
   "cell_type": "code",
   "execution_count": null,
   "metadata": {},
   "outputs": [],
   "source": []
  }
 ],
 "metadata": {
  "kernelspec": {
   "display_name": "Python 3",
   "language": "python",
   "name": "python3"
  },
  "language_info": {
   "codemirror_mode": {
    "name": "ipython",
    "version": 3
   },
   "file_extension": ".py",
   "mimetype": "text/x-python",
   "name": "python",
   "nbconvert_exporter": "python",
   "pygments_lexer": "ipython3",
   "version": "3.7.1"
  }
 },
 "nbformat": 4,
 "nbformat_minor": 2
}
